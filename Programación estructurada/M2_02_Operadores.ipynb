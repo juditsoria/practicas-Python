{
 "cells": [
  {
   "cell_type": "markdown",
   "metadata": {},
   "source": [
    "# Ejercicios Modulo 2. Operadores\n",
    "\n",
    "Consideraciones a tener en cuenta: \n",
    "\n",
    "* Guardar este documento con el siguiente formato para su entrega: __M2_02_nombre_apellido1_apellido2__\n",
    "* Realizar los ejercicios con las herramientas vistas en las sesiones. Aún no hemos llegado a condicionales ni bucles\n",
    "* Comentar el código\n",
    "* Utilizar nombres de variables apropiados, si vais a guardar una nota, llamar a esa variable nota, no n o x"
   ]
  },
  {
   "cell_type": "markdown",
   "metadata": {},
   "source": [
    "## Ejercicios de operadores y expresiones"
   ]
  },
  {
   "cell_type": "markdown",
   "metadata": {},
   "source": [
    "**1) Crear 5 variables con 5 notas numéricas y realizar la media aritmética. Mostrar el resultado final con un mensaje como este: \"La nota media es 6.0\"**"
   ]
  },
  {
   "cell_type": "code",
   "execution_count": 13,
   "metadata": {},
   "outputs": [
    {
     "name": "stdout",
     "output_type": "stream",
     "text": [
      "La nota media es6.8\n"
     ]
    }
   ],
   "source": [
    "nota1 = 5\n",
    "nota2 = 6\n",
    "nota3 = 4\n",
    "nota4 = 9\n",
    "nota5 = 10\n",
    "total_notas = 5  # mejor almacenar el numero 5 para que no haya numeros magicos\n",
    "nota_media = (nota1 + nota2 + nota3 + nota4 + nota5)  / total_notas\n",
    "print (\"La nota media es\" + str(nota_media))"
   ]
  },
  {
   "cell_type": "markdown",
   "metadata": {},
   "source": [
    "**2) Busca en la documentación la forma correcta de redondear el siguiente resultado a tan solo 2 decimales: operacion = (365 / 12) * 14.7**"
   ]
  },
  {
   "cell_type": "code",
   "execution_count": 12,
   "metadata": {},
   "outputs": [
    {
     "name": "stdout",
     "output_type": "stream",
     "text": [
      "447.12\n"
     ]
    }
   ],
   "source": [
    "operacion = (365 / 12) * 14.7 \n",
    "redondeado = round (operacion, 2)  # round funcion para redondear\n",
    "print(redondeado)"
   ]
  },
  {
   "cell_type": "markdown",
   "metadata": {},
   "source": [
    "**3) Crea dos variables que almacenen 2 strings (username y password). Realizar las siguientes comprobaciones utilizando operadores lógicos:**\n",
    "* Que la longitud de username sea mayor o igual que tres y menor que diez\n",
    "* Que la password sea igual a \"Tokio\" o que sea igual a \"Python\".\n",
    "<br>La salida por pantalla tiene que ser:\n",
    "    * **Username: True o False** (según se haya evaluado)\n",
    "    * **Password: True o False** (según se haya evaluado)"
   ]
  },
  {
   "cell_type": "code",
   "execution_count": 17,
   "metadata": {},
   "outputs": [
    {
     "name": "stdout",
     "output_type": "stream",
     "text": [
      "username True\n",
      "password False\n"
     ]
    }
   ],
   "source": [
    "username = \"judit221\"\n",
    "password = \"123456789\"\n",
    "username_longitud = len(username) >= 3 and len (username) < 10\n",
    "password_comprobacion = password == \"Tokio\" or password == \"Python\" \n",
    "print ( \"Psername:\" , username_longitud)  # booleanos no se pueden concatenar, + da error, por eso puse ,\n",
    "print (\"Password:\" , password_comprobacion)\n",
    "\n"
   ]
  },
  {
   "cell_type": "markdown",
   "metadata": {},
   "source": [
    "**4) Practiquemos con los operadores de asignación (=, +=, *=, etc.):**\n",
    "* Crea dos variables y asignales los números que quieras\n",
    "* Incrementale a num1 su valor en 1\n",
    "* Decrementale a num2 su valor en 2\n",
    "* Multiplica num1 por 3 y actualiza su valor\n",
    "* Dividide num2 por 2 y actualiza su valor\n",
    "* Muestra los resultados"
   ]
  },
  {
   "cell_type": "code",
   "execution_count": 20,
   "metadata": {},
   "outputs": [
    {
     "name": "stdout",
     "output_type": "stream",
     "text": [
      "2\n",
      "0\n",
      "3\n",
      "1.0\n",
      "3\n",
      "1.0\n"
     ]
    }
   ],
   "source": [
    "num1 = 1\n",
    "num2 = 2 \n",
    "num1_sum = num1 + 1 \n",
    "num2_res = num2 - 2\n",
    "num1_mul = num1 * 3\n",
    "num1 = num1_mul\n",
    "num2_div = num2 / 2  \n",
    "num2 = num2_div\n",
    "print (num1_sum)\n",
    "print (num2_res)\n",
    "print (num1_mul)\n",
    "print (num2_div)\n",
    "print(num1)  # numero reasignado\n",
    "print(num2)  # numero reasignado\n",
    "\n",
    "\n"
   ]
  }
 ],
 "metadata": {
  "anaconda-cloud": {},
  "kernelspec": {
   "display_name": "Python 3",
   "language": "python",
   "name": "python3"
  },
  "language_info": {
   "codemirror_mode": {
    "name": "ipython",
    "version": 3
   },
   "file_extension": ".py",
   "mimetype": "text/x-python",
   "name": "python",
   "nbconvert_exporter": "python",
   "pygments_lexer": "ipython3",
   "version": "3.12.4"
  }
 },
 "nbformat": 4,
 "nbformat_minor": 1
}
