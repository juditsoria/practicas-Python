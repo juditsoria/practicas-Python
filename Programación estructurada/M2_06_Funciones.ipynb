{
 "cells": [
  {
   "cell_type": "markdown",
   "metadata": {},
   "source": [
    "# Ejercicios Modulo 2. Funciones\n",
    "\n",
    "Consideraciones a tener en cuenta: \n",
    "\n",
    "* Guardar este documento con el siguiente formato para su entrega: __M2_06_nombre_apellido1_apellido2__\n",
    "* Realizar los ejercicios con las herramientas vistas en las sesiones. \n",
    "* Comentar el código\n",
    "* Utilizar nombres de variables apropiados, si vais a guardar una nota, llamar a esa variable nota, no n o x"
   ]
  },
  {
   "cell_type": "markdown",
   "metadata": {},
   "source": [
    "**1) Realiza una función que devuelva el área de un rectángulo a partir de su base y su altura. La función se llamará area_rectangulo(). La base y la altura se pedirán al usuario por teclado.**\n",
    "\n",
    "*Nota: El área de un rectángulo se obtiene al multiplicar la base por la altura.*"
   ]
  },
  {
   "cell_type": "code",
   "execution_count": 93,
   "metadata": {},
   "outputs": [
    {
     "name": "stdin",
     "output_type": "stream",
     "text": [
      "Introduce la base del rectangulo 2\n",
      "Introduce la altura del rectangulo 3\n"
     ]
    },
    {
     "name": "stdout",
     "output_type": "stream",
     "text": [
      "El area del rectangulo es: 6\n"
     ]
    }
   ],
   "source": [
    "def area_rectangulo(b, a): #Función para calcular el área\n",
    "    calcular_area = b * a\n",
    "    return calcular_area\n",
    "    \n",
    "def datos(): #Función para pedirle al usuario la base y la altura\n",
    "    base = int(input(\"Introduce la base del rectangulo\"))\n",
    "    altura = int(input(\"Introduce la altura del rectangulo\"))\n",
    "    return base, altura\n",
    "    \n",
    "def imprimir_resultado(area): # Función para imprimir resultado\n",
    "    print(\"El area del rectangulo es:\", area)\n",
    "    \n",
    "if __name__ == \"__main__\":  # En el main hago las llamadas a las funciones \n",
    "    base, altura = datos()\n",
    "    area = area_rectangulo(b = base, a = altura)\n",
    "    imprimir_resultado(area)"
   ]
  },
  {
   "cell_type": "markdown",
   "metadata": {},
   "source": [
    "**2) Realiza una función que devuelva el área de un círculo a partir de un radio. La función se llamará area_circulo(). El radio se pedirá al usuario por teclado:**\n",
    "\n",
    "Nota: El área de un círculo se obtiene al elevar el radio a dos y multiplicando el resultado por el número pi. Puedes utilizar el valor 3.14159 como pi o importarlo del módulo math:\n",
    "```python\n",
    "import math\n",
    "print(math.pi)\n",
    "> 3.1415...\n",
    "```"
   ]
  },
  {
   "cell_type": "code",
   "execution_count": 107,
   "metadata": {},
   "outputs": [
    {
     "name": "stdout",
     "output_type": "stream",
     "text": [
      "3.141592653589793\n"
     ]
    },
    {
     "name": "stdin",
     "output_type": "stream",
     "text": [
      "Introduce el radio del circulo: 3\n"
     ]
    },
    {
     "name": "stdout",
     "output_type": "stream",
     "text": [
      "El area del circulo es: 28.274333882308138\n"
     ]
    }
   ],
   "source": [
    "import math\n",
    "print(math.pi)\n",
    "def datos(): # Función para pedirle al usuario el radio del circulo\n",
    "    radio = int(input(\"Introduce el radio del circulo:\")) \n",
    "    return radio\n",
    "    \n",
    "def area_circulo(r): # Función para calcular el área\n",
    "    n_pi = math.pi\n",
    "    radio = r ** 2\n",
    "    area = n_pi * radio\n",
    "    return area \n",
    "\n",
    "def imprimir_resultado(area): # Función para imprimir el resultado\n",
    "    print(\"El area del circulo es:\", area)\n",
    "    \n",
    "if __name__ == \"__main__\":  # En el main hago las llamadas a las funciones \n",
    "    radio = datos()\n",
    "    area = area_circulo(radio)\n",
    "    imprimir_resultado(area)\n"
   ]
  },
  {
   "cell_type": "markdown",
   "metadata": {},
   "source": [
    "**3) Realiza una función llamada lee_numero() que solicite y lea por teclado un numero. Utilizar esta función para pedirle al usuario 3 números. Luego pasarle estos 3 números a una función que se llame mayor() que tenga 3 parámetros y que devuelva el número mayor de los 3:**"
   ]
  },
  {
   "cell_type": "code",
   "execution_count": 131,
   "metadata": {},
   "outputs": [
    {
     "name": "stdin",
     "output_type": "stream",
     "text": [
      "Introduce un numero: 222\n",
      "Introduce un numero: 8765\n",
      "Introduce un numero: 987654\n"
     ]
    },
    {
     "name": "stdout",
     "output_type": "stream",
     "text": [
      "El numero mayor de los tres introducidos es: 987654\n"
     ]
    }
   ],
   "source": [
    "def lee_numero(): # Función para solicitar un numero\n",
    "    solicitar = int(input(\"Introduce un numero:\"))\n",
    "    return solicitar\n",
    "\n",
    "def mayor(a, b, c): # Función para calcular cual es el numero mayor de tres numeros\n",
    "    return max(a, b, c)\n",
    "\n",
    "def imprimir_numero_mayor(a, b, c): # Función para imprimir en pantalla cual es el numero mas grande\n",
    "    print(\"El numero mayor de los tres introducidos es:\", mayor(a,b,c))\n",
    "if __name__ == \"__main__\":  # En el main hago las llamadas a las funciones \n",
    "    a = lee_numero()\n",
    "    b = lee_numero()\n",
    "    c = lee_numero()\n",
    "    imprimir_numero_mayor(a, b, c)\n"
   ]
  },
  {
   "cell_type": "markdown",
   "metadata": {},
   "source": [
    "**4) Realizar una función llamada imc(). Esta función nos proporcionará el estado nutricional de una persona. Esto es; la clasificación de su índice de masa corporal (IMC), según la tabla proporcionada. La función recibirá el peso (en kilos) y la talla de una persona (en metros con dos decimales), datos a partir de los cuales se puede calcular el IMC cómo:**\n",
    "\n",
    "IMC = peso / (altura * altura)\n",
    "\n",
    "Clasificación: IMC (Kg/m^2)\n",
    "* Bajo peso:  < 18.50\n",
    "* Normal:      [18.50, 25.00)\n",
    "* Sobrepeso: >= 25.00\n",
    "* Obesidad: >= 30.00"
   ]
  },
  {
   "cell_type": "code",
   "execution_count": 157,
   "metadata": {},
   "outputs": [
    {
     "name": "stdin",
     "output_type": "stream",
     "text": [
      "Introduce tu altura(En metros con dos decimales): 1.90\n",
      "Introduce tu peso(en kilos): 300\n"
     ]
    },
    {
     "name": "stdout",
     "output_type": "stream",
     "text": [
      "Tu IMC es: 83.10249307479225 .Tu tienes obesidad\n"
     ]
    }
   ],
   "source": [
    "def datos_usuario(): # Función para pedirle al usuario sus medidas\n",
    "    talla = float(input (\"Introduce tu altura(En metros con dos decimales):\"))\n",
    "    peso = int(input(\"Introduce tu peso(en kilos):\"))\n",
    "    return talla, peso\n",
    "    \n",
    "def imc(talla, peso): # Función para calcular el IMC\n",
    "    imc = peso / (talla * talla)\n",
    "    return imc \n",
    "    \n",
    "def imprimir (imc): # Dependiendo del IMC que salga, saldrá un mensaje u otro\n",
    "    if imc > 0 and imc < 18.50:\n",
    "        print(\"Tu IMC es:\", imc, \".Tu peso es bajo\")\n",
    "    elif imc > 18.50 and imc < 25.00:\n",
    "        print(\"Tu IMC es:\", imc, \".Tu peso es normal\")\n",
    "    elif imc >= 25.00 and imc < 30:\n",
    "        print(\"Tu IMC es:\", imc, \".Tu tienes sobrepeso\")\n",
    "    elif imc >= 30.00 and imc < 100: \n",
    "        print(\"Tu IMC es:\", imc, \".Tu tienes obesidad\")\n",
    "    else:\n",
    "        print(\"Algún dato introducido no está bien.\")\n",
    "        \n",
    "if __name__ == \"__main__\":  # En el main hago las llamadas a las funciones \n",
    "    talla, peso = datos_usuario()\n",
    "    resultado_imc = imc(talla, peso)  # Calcular el IMC\n",
    "    imprimir(resultado_imc)  # Imprimir el resultado del IMC\n",
    "  "
   ]
  },
  {
   "cell_type": "markdown",
   "metadata": {},
   "source": [
    "**5) ¿Recuerdas este programa de la unidad de control de flujo?**\n",
    "\n",
    "Realiza un programa que realice las siguientes tareas:\n",
    "\n",
    "* Paso 1) solicite al usuario una contraseña y la guarde en una variable\n",
    "* Paso 2) pida al usuario introducir la contraseña para loguearse\n",
    "    * si la contraseña es correcta mostramos \"Login correcto\"\n",
    "    * si la contraseña no es correcta se le tendrá que mostrar un mensaje de \"Login fallido. Intento 1\", donde 1 será una variable contador que irá incrementandose hasta llegar a 5. En ese punto reiniciamos el programa y volveremos al Paso 1\n",
    "\n",
    "__Reestructura el ejercicio dividiéndolo al máximo en funciones.__"
   ]
  },
  {
   "cell_type": "code",
   "execution_count": 177,
   "metadata": {},
   "outputs": [
    {
     "name": "stdin",
     "output_type": "stream",
     "text": [
      "Elige un nombre de usuario juju\n",
      "Escoje tu contraseña juju\n",
      "Introduce tu usuario juju\n",
      "Introduce tu contraseña juju\n"
     ]
    },
    {
     "name": "stdout",
     "output_type": "stream",
     "text": [
      "Login correcto\n"
     ]
    }
   ],
   "source": [
    "def registro():\n",
    "    nuevo_usuario = input(\"Elige un nombre de usuario\")\n",
    "    nueva_contraseña = input(\"Escoje tu contraseña\")\n",
    "    return nuevo_usuario, nueva_contraseña\n",
    "    \n",
    "def usuario():\n",
    "    usuario = input(\"Introduce tu usuario\")\n",
    "    contraseña = input(\"Introduce tu contraseña\") \n",
    "    return usuario, contraseña\n",
    "\n",
    "def login(nuevo_usuario, nueva_contraseña):\n",
    "    for i in range(5):\n",
    "        usuario_ingresado, contraseña_ingresada = usuario()\n",
    "        if nuevo_usuario == usuario_ingresado and nueva_contraseña == contraseña_ingresada:\n",
    "            print(\"Login correcto\")\n",
    "            return\n",
    "        else:\n",
    "            print(\"Login fallido, intentelo de nuevo.\")\n",
    "    print(\"Has fallado 5 veces. El programa se cerrará.\") \n",
    "    \n",
    "\n",
    "if __name__ == \"__main__\":  # En el main hago las llamadas a las funciones \n",
    "    nuevo_usuario, nueva_contraseña = registro()\n",
    "    login(nuevo_usuario, nueva_contraseña,)"
   ]
  }
 ],
 "metadata": {
  "anaconda-cloud": {},
  "kernelspec": {
   "display_name": "Python 3 (ipykernel)",
   "language": "python",
   "name": "python3"
  },
  "language_info": {
   "codemirror_mode": {
    "name": "ipython",
    "version": 3
   },
   "file_extension": ".py",
   "mimetype": "text/x-python",
   "name": "python",
   "nbconvert_exporter": "python",
   "pygments_lexer": "ipython3",
   "version": "3.12.4"
  }
 },
 "nbformat": 4,
 "nbformat_minor": 4
}
