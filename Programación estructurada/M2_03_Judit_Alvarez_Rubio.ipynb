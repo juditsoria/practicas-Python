{
 "cells": [
  {
   "cell_type": "markdown",
   "metadata": {},
   "source": [
    "# Ejercicios Modulo 2. Entrada y salida de datos\n",
    "\n",
    "Consideraciones a tener en cuenta: \n",
    "\n",
    "* Guardar este documento con el siguiente formato para su entrega: __M2_03_nombre_apellido1_apellido2__\n",
    "* Realizar los ejercicios con las herramientas vistas en las sesiones. Aún no hemos llegado a condicionales ni bucles\n",
    "* Comentar el código\n",
    "* Utilizar nombres de variables apropiados, si vais a guardar una nota, llamar a esa variable nota, no n o x"
   ]
  },
  {
   "cell_type": "markdown",
   "metadata": {},
   "source": [
    "## Ejercicios de entrada y salida"
   ]
  },
  {
   "cell_type": "markdown",
   "metadata": {},
   "source": [
    "**1) Utiliza el método input() para realizar las siguientes tareas:**\n",
    "\n",
    "* Pide un número por teclado, muestra el resultado y su tipo (para conocer en que tipo de dato captura la información input())\n",
    "* Pide un número por teclado y asegurate de que capturemos la información en formato int\n",
    "* Pide un número por teclado y asegurate de que capturemos la información en formato float\n",
    "\n",
    "__Comprobar con type que los datos son del tipo correcto__"
   ]
  },
  {
   "cell_type": "code",
   "execution_count": 31,
   "metadata": {},
   "outputs": [
    {
     "name": "stdout",
     "output_type": "stream",
     "text": [
      "tipo de dato <class 'str'>\n",
      "numero 4\n",
      "tipo de dato <class 'int'>\n",
      "numero 5\n",
      "tipo de dato <class 'float'>\n",
      "numero 5.0\n"
     ]
    }
   ],
   "source": [
    "\n",
    "numero_str = input (\"Introduce un numero\")\n",
    "print (\"tipo de dato\",type(numero_str))\n",
    "print(\"numero\", numero_str)\n",
    "numero_int = int(input (\"Introduce un numero\"))\n",
    "print (\"tipo de dato\",type(numero_int))\n",
    "print(\"numero\", numero_int)\n",
    "numero_float = float (input(\"Introduce un numero\"))\n",
    "print (\"tipo de dato\",type(numero_float))\n",
    "print(\"numero\", numero_float)"
   ]
  },
  {
   "cell_type": "markdown",
   "metadata": {},
   "source": [
    "**2) Vamos a formatear números:**\n",
    "\n",
    "* Pide un numero entero por teclado\n",
    "* Muéstralo con el formato de 5 dígitos rellenos con 0s por delante\n",
    "* Pide un número flotante por teclado\n",
    "* Muéstralo con 5 dígitos para la parte entera y 3 dígitos para la parte decimal"
   ]
  },
  {
   "cell_type": "code",
   "execution_count": 32,
   "metadata": {},
   "outputs": [
    {
     "name": "stdout",
     "output_type": "stream",
     "text": [
      "Número entero con formato de 5 ceros: 00005\n",
      "Número flotante con formato de 5 dígitos enteros y 2 decimales: 00005.000\n"
     ]
    }
   ],
   "source": [
    "\n",
    "numero_int = int(input(\"Introduce un número entero: \"))\n",
    "\n",
    "numero_int_formateado = f\"{numero_int:05}\"  #5 ceros por delante del numero\n",
    "print(\"Número entero con formato de 5 ceros:\", numero_int_formateado)\n",
    "\n",
    "# Pedir un número flotante por teclado\n",
    "numero_float = float(input(\"Introduce un número flotante: \"))\n",
    "\n",
    "numero_float_formateado = f\"{numero_float:09.3f}\"  # 5 0s en la parte entera y 3 en la decimal\n",
    "\n",
    "print(\"Número flotante con formato de 5 dígitos enteros y 2 decimales:\", numero_float_formateado)\n"
   ]
  },
  {
   "cell_type": "markdown",
   "metadata": {},
   "source": [
    "**3) Vamos a ponernos creativos. ¿Cuántas formas tienes de mostrar esta información?**<bR>\n",
    "<code>La altura es de 1,80 metros y el peso es de 80,135 KG</code>\n",
    "    \n",
    "Siendo la altura y el peso dos variables que se recojan con 2 inputs\n",
    "    \n",
    "__Pista: format() se puede usar de varias formas__"
   ]
  },
  {
   "cell_type": "code",
   "execution_count": 30,
   "metadata": {},
   "outputs": [
    {
     "name": "stdout",
     "output_type": "stream",
     "text": [
      "La altura es de 5.00 metros y el peso es de 4.000 KG\n",
      "La altura es de 5.00 metros y el peso es de 4.000 KG\n",
      "La altura es de 5.00 metros y el peso es de 4.000 KG\n",
      "La altura es de 5.00 metros y el peso es de 4.000 KG\n",
      "La altura es de    5.00 metros y el peso es de    4.000 KG\n"
     ]
    }
   ],
   "source": [
    "altura = float(input(\"Introduce la altura en metros (por ejemplo, 1.80): \"))\n",
    "peso = float(input(\"Introduce el peso en kilogramos (por ejemplo, 80.135): \"))\n",
    "\n",
    "\n",
    "resultado1 = \"La altura es de {:.2f} metros y el peso es de {:.3f} KG\".format(altura, peso)\n",
    "# {:.2f} formatea el numero con 2 y 3 decimales.\n",
    "print(resultado1)\n",
    "\n",
    "resultado2 = f\"La altura es de {altura:.2f} metros y el peso es de {peso:.3f} KG\"\n",
    "print(resultado2)\n",
    "# esto hace lo mismo pero poniendo ahi mismo el peso y la altura,, no al final, se lee mejor\n",
    "\n",
    "resultado3 = \"La altura es de {0:.2f} metros y el peso es de {1:.3f} KG\".format(altura, peso)\n",
    "print(resultado3)\n",
    "#  aqui se le da un indice y se pone al final\n",
    "\n",
    "resultado4 = \"La altura es de {altura:.2f} metros y el peso es de {peso:.3f} KG\".format(altura=altura, peso=peso)\n",
    "print(resultado4)\n",
    "# pone eln el mismo texto el peso y la altura, se lee mejor\n",
    "\n",
    "resultado5 = f\"La altura es de {altura:7.2f} metros y el peso es de {peso:8.3f} KG\"\n",
    "print(resultado5)\n",
    "# este alinea el texto"
   ]
  }
 ],
 "metadata": {
  "anaconda-cloud": {},
  "kernelspec": {
   "display_name": "Python 3",
   "language": "python",
   "name": "python3"
  },
  "language_info": {
   "codemirror_mode": {
    "name": "ipython",
    "version": 3
   },
   "file_extension": ".py",
   "mimetype": "text/x-python",
   "name": "python",
   "nbconvert_exporter": "python",
   "pygments_lexer": "ipython3",
   "version": "3.12.4"
  }
 },
 "nbformat": 4,
 "nbformat_minor": 1
}
