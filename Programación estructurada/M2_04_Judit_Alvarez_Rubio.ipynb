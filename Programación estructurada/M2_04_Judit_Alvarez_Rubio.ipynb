{
 "cells": [
  {
   "cell_type": "markdown",
   "metadata": {},
   "source": [
    "# Ejercicios Modulo 2. Tipos avanzados\n",
    "\n",
    "Consideraciones a tener en cuenta: \n",
    "\n",
    "* Guardar este documento con el siguiente formato para su entrega: __M2_04_nombre_apellido1_apellido2__\n",
    "* Realizar los ejercicios con las herramientas vistas en las sesiones. Aún no hemos llegado a condicionales ni bucles\n",
    "* Comentar el código\n",
    "* Utilizar nombres de variables apropiados, si vais a guardar una nota, llamar a esa variable nota, no n o x"
   ]
  },
  {
   "cell_type": "markdown",
   "metadata": {},
   "source": [
    "## Ejercicios de tipos avanzados"
   ]
  },
  {
   "cell_type": "markdown",
   "metadata": {},
   "source": [
    "**1) Trabajemos con listas y tuplas**\n",
    "* Crea una lista y una tupla que contenga strings (al menos 3 elementos). Tematica libre, sobre lo que quieras, vehiculos, comida, música, etc.\n",
    "* Muestra la lista y la tupla\n",
    "* Muestra el 2º elemento de la lista y el penúltimo de la tupla\n",
    "* Modifica (si se puede) algún elemento de la lista y de la tupla. Y mostrar el resultado\n",
    "* Muestra el tamaño de la lista y de la tupla\n",
    "* Realiza una búsqueda de un elemento dentro de la lista y de la tupla. Mostrar si devuelve True o False\n",
    "* Añade (si se puede) algún elemento a la lista y a la tupla. Mostrar de nuevo la lista y la tupla para verificar si se ha realizado correctamente la acción.\n",
    "* Borra o elimina (si se puede) el contenido de la lista y de la tupla. Mosstrar de nuevo la lista y la tupla para verificar si se ha realizado correctamente la acción\n",
    "\n"
   ]
  },
  {
   "cell_type": "code",
   "execution_count": 1,
   "metadata": {},
   "outputs": [
    {
     "name": "stdout",
     "output_type": "stream",
     "text": [
      "['pop', 'rock', 'techno', 'flamenco', 'reggeton']\n",
      "('perro', 'gato', 'araña', 'serpiente', 'cerdo')\n",
      "rock\n",
      "serpiente\n",
      "['pop', 'rock', 'techno', 'rumba', 'reggeton']\n",
      "5\n",
      "5\n",
      "['pop', 'rock', 'techno', 'rumba', 'reggeton', 'rap']\n",
      "['rock', 'techno', 'rumba', 'reggeton', 'rap']\n"
     ]
    }
   ],
   "source": [
    "musica = [\"pop\", \"rock\", \"techno\", \"flamenco\", \"reggeton\"]\n",
    "animales = (\"perro\", \"gato\", \"araña\", \"serpiente\", \"cerdo\")\n",
    "print(musica)\n",
    "print(animales)\n",
    "print(musica[1]) # ultimo de la lista\n",
    "print(animales[-2]) # penultimo de la lista\n",
    "musica[3] = \"rumba\"  # cambia el indice 3 por rumba\n",
    "print(musica)\n",
    "print(len(musica))\n",
    "print(len(animales))\n",
    "if \"arana\" in animales:  # si exixte arana en los animales\n",
    "    print(True)\n",
    "musica.append(\"rap\") # añade rap\n",
    "print(musica)\n",
    "musica.remove(\"pop\") # elimina pop\n",
    "print(musica)"
   ]
  },
  {
   "cell_type": "markdown",
   "metadata": {},
   "source": [
    "**2) Trabajemos con sets y diccionarios**\n",
    "* Crea una set y un diccionario que contengan strings (al menos 3 elementos en el caso del set y 3 conjuntos de clave:valor en el caso del diccionario). Tematica libre, sobre lo que quieras, vehiculos, comida, música, etc.\n",
    "* Muestra el set y el diccionario\n",
    "* Muestra (si se puede) el 2º elemento del set y el valor del primer clave-valor del diccionario\n",
    "* Modifica (si se puede) algún elemento del set o del diccionario. Y mostrar el resultado\n",
    "* Muestra el tamaño del set y del diccionario\n",
    "* Realiza una búsqueda de un elemento dentro del set y dentro del diccionario. Mostrar si devuelve True o False\n",
    "* Añade (si se puede) algún elemento al set y algun clave-valor al diccionario. Mostrar de nuevo el set y el diccionario para verificar si se ha realizado correctamente la acción.\n",
    "* Borra o elimina (si se puede) el contenido del set y del diccionario. Mosstrar de nuevo el set y el diccionario para verificar si se ha realizado correctamente la acción\n",
    "\n"
   ]
  },
  {
   "cell_type": "code",
   "execution_count": 83,
   "metadata": {},
   "outputs": [
    {
     "name": "stdout",
     "output_type": "stream",
     "text": [
      "{'agua', 'fanta', 'cocacola', 'cerveza'}\n",
      "{'nombre': 'judit', 'edad': 25, 'residencia': 'Soria', 'profesion': 'developer'}\n",
      "25\n",
      "{'nombre': 'judit', 'edad': 25, 'residencia': 'Soria', 'profesion': 'programadora'}\n",
      "4\n",
      "4\n",
      "True\n",
      "True\n",
      "{'fanta', 'cocacola', 'cerveza'}\n",
      "{'nombre': 'judit', 'residencia': 'Soria', 'profesion': 'programadora'}\n"
     ]
    }
   ],
   "source": [
    "bebidas= {\"cocacola\", \"fanta\", \"agua\", \"cerveza\"}\n",
    "persona = {\n",
    "    \"nombre\" : \"judit\",\n",
    "    \"edad\": 25,\n",
    "    \"residencia\": \"Soria\",\n",
    "    \"profesion\": \"developer\"\n",
    "}\n",
    "print(bebidas)\n",
    "print(persona)\n",
    "print(persona[\"edad\"]) \n",
    "persona[\"profesion\"] = \"programadora\" # cambio lo que hay dentro de profesion por programadora\n",
    "print(persona)\n",
    "print(len(persona))\n",
    "print(len(bebidas))\n",
    "if \"cocacola\" in bebidas:  # busco cocacola\n",
    "    print(True)\n",
    "if \"residencia\" in persona: # busco residencia\n",
    "    print(True)\n",
    "bebidas.pop()\n",
    "print(bebidas)\n",
    "del persona [\"edad\"]  # busco la edad de la persona\n",
    "print(persona)"
   ]
  },
  {
   "cell_type": "markdown",
   "metadata": {},
   "source": [
    "**3) Realizar un programa que pida al usuario 3 números que pueden ser flotantes (no es necesario realizar bucles aún, podemos repetir el código), estos números se deberán introducir en una lista. Cuando se haya finalizado la introducción de los datos, se mostrará el sumatorio de toda la lista. Guardar el sumatorio en una variable que se llame \"sumatorio\"**\n",
    "\n",
    "*Ayuda: Existe una función llamada sum(lista) ¡Pruébalo!*"
   ]
  },
  {
   "cell_type": "code",
   "execution_count": 13,
   "metadata": {},
   "outputs": [
    {
     "name": "stdin",
     "output_type": "stream",
     "text": [
      "introduce 1 numero:  1\n",
      "introduce 1 numero:  2\n",
      "introduce 1 numero:  3\n"
     ]
    },
    {
     "name": "stdout",
     "output_type": "stream",
     "text": [
      "6\n"
     ]
    }
   ],
   "source": [
    "numero1 = input(\"introduce 1 numero: \")\n",
    "numero2 = input(\"introduce 1 numero: \")\n",
    "numero3 = input(\"introduce 1 numero: \")\n",
    "# Crear una lista con los números convertidos a enteros\n",
    "numeros = [int(numero1), int(numero2), int(numero3)]\n",
    "\n",
    "# Calcular la suma y la cantidad de elementos\n",
    "suma = sum(numeros)\n",
    "print(suma)"
   ]
  },
  {
   "cell_type": "markdown",
   "metadata": {},
   "source": [
    "**4) Sobre el ejercicio anterior, queremos mostrar la media aritmética de los elementos de esa lista. Indicar la instrucción necesaria para obtenerla.**\n",
    "\n",
    "*En este caso sabemos que el número de elementos que ha introducido el usuario es 3, pero en otra ocasión podría ser diferente, por lo tanto, no hagáis referencia al número 3 en ningún sitio*"
   ]
  },
  {
   "cell_type": "code",
   "execution_count": 15,
   "metadata": {},
   "outputs": [
    {
     "name": "stdout",
     "output_type": "stream",
     "text": [
      "La media aritmética es: 2.0\n"
     ]
    }
   ],
   "source": [
    "cantidad = len(numeros)\n",
    "\n",
    "# Calcular la media aritmética\n",
    "media = suma / cantidad\n",
    "\n",
    "# Mostrar el resultado\n",
    "print(\"La media aritmética es:\", media)"
   ]
  },
  {
   "cell_type": "markdown",
   "metadata": {},
   "source": [
    "**5) Dada la siguiente matriz de notas (una matriz es una lista de listas anidadas) se observa que cada fila es un listado de notas de un alumno, donde en la última posición de cada lista se encuentra el sumatorio de todas las notas anteriores de esa lista. Pero apreciamos que hay varios errores en los sumatorios de varios alumnos, utilizar la técnica de slicing para acceder a estas posiciones y modificar los valores erroneos de la forma más automatizada posible.**\n",
    "\n",
    "* No vale poner directamente los valores:\n",
    "```python\n",
    "notas[1][3] = 60\n",
    "notas[3][3] = 120\n",
    "```\n",
    "* Hay que buscar una forma automatizada de acceder y modificar esos valores"
   ]
  },
  {
   "cell_type": "code",
   "execution_count": 23,
   "metadata": {},
   "outputs": [
    {
     "name": "stdout",
     "output_type": "stream",
     "text": [
      "[[10, 10, 10, 30], [20, 20, 20, 60], [30, 30, 30, 90], [40, 40, 40, 120]]\n"
     ]
    }
   ],
   "source": [
    "notas = [ \n",
    "    [10, 10, 10, 30],\n",
    "    [20, 20, 20, 70],\n",
    "    [30, 30, 30, 90],\n",
    "    [40, 40, 40, 130]\n",
    "]\n",
    "# Recorremos cada fila de la matriz\n",
    "for fila in notas:\n",
    "    sumatorio_correcto = sum(fila[:-1])  # Sumar todas las notas excepto el último elemento\n",
    "    if fila[-1] != sumatorio_correcto:  # Comparamos con el sumatorio actual\n",
    "        fila[-1] = sumatorio_correcto   # Si es incorrecto, lo actualizamos\n",
    "\n",
    "# Mostramos la matriz corregida\n",
    "print(notas)"
   ]
  },
  {
   "cell_type": "markdown",
   "metadata": {},
   "source": [
    "**6) Supongamos que obtenemos una cadena de texto corrupta, esta al revés. Esta cadena contiene el nombre y el año de nacimiento de una persona. Formatear dicha cadena para obtener el siguiente formato:**\n",
    "\n",
    "* Empleado ***Nombre*** ***Apellido*** nacido en el año ***Año***\n",
    "\n",
    "*Pista: Para invertir el orden una cadena usando técnicas de slicing se puede utilizar un tercer índice -1: cadena[::-1]*\n"
   ]
  },
  {
   "cell_type": "code",
   "execution_count": 29,
   "metadata": {},
   "outputs": [
    {
     "name": "stdout",
     "output_type": "stream",
     "text": [
      "1985,Carlos Perez\n",
      "Empleado Carlos Perez nacido en el año 1985\n"
     ]
    }
   ],
   "source": [
    "cadena = \"zereP solraC,5891\"\n",
    "# Invertir la cadena\n",
    "cadena_invertida = cadena[::-1]\n",
    "print(cadena_invertida)\n",
    "# Separar el nombre y el año de nacimiento\n",
    "ano_nacimiento, nombre_apellido = cadena_invertida.split(',')\n",
    "\n",
    "# Formatear la salida\n",
    "resultado = f\"Empleado {nombre_apellido} nacido en el año {ano_nacimiento}\"\n",
    "\n",
    "# Mostrar el resultado\n",
    "print(resultado)"
   ]
  },
  {
   "cell_type": "markdown",
   "metadata": {},
   "source": [
    "**7) Practiquemos con conjuntos:**\n",
    "* Crea un conjunto llamado mamíferos que tenga los elementos Gato, León, Caballo, Ballena y Tortuga\n",
    "* Crea un conjunto llamado peces que tenga los elementos Ballena y Sardina\n",
    "* Borra la Tortuga del conjunto mamiíferos\n",
    "* Añade el Pez Payaso al conjunto peces\n",
    "* Imprime los conjuntos por pantalla\n",
    "* Imprime por pantalla los elementos que se encuentren en ambos conjuntos, es decir, que sean mamíferos y peces"
   ]
  },
  {
   "cell_type": "code",
   "execution_count": 33,
   "metadata": {},
   "outputs": [
    {
     "name": "stdout",
     "output_type": "stream",
     "text": [
      "Conjunto mamíferos: {'Gato', 'Ballena', 'Caballo', 'León'}\n",
      "Conjunto peces: {'Ballena', 'Sardina', 'Pez Payaso'}\n",
      "Animales que son mamiferos y peces: {'Ballena'}\n"
     ]
    }
   ],
   "source": [
    "# Crear el conjunto mamiferos\n",
    "mamiferos = {\"Gato\", \"León\", \"Caballo\", \"Ballena\", \"Tortuga\"}\n",
    "\n",
    "# Crear el conjunto peces\n",
    "peces = {\"Ballena\", \"Sardina\"}\n",
    "\n",
    "# Borrar la Tortuga del conjunto mamíferos\n",
    "mamiferos.discard(\"Tortuga\")  # Usamos discard para evitar error si no existe\n",
    "\n",
    "# Añadir el Pez Payaso al conjunto peces\n",
    "peces.add(\"Pez Payaso\")\n",
    "\n",
    "# Imprimir los conjuntos por pantalla\n",
    "print(\"Conjunto mamíferos:\", mamiferos)\n",
    "print(\"Conjunto peces:\", peces)\n",
    "\n",
    "# Imprimir los elementos que estan en ambos conjuntos (interseccion)\n",
    "interseccion = mamiferos.intersection(peces)\n",
    "print(\"Animales que son mamiferos y peces:\", interseccion)\n"
   ]
  },
  {
   "cell_type": "markdown",
   "metadata": {},
   "source": [
    "**8) Practiquemos con diccionarios. Tenemos un diccionario que contiene una serie de productos. Realicemos las tres siguientes tareas:**\n",
    "* Ver productos\n",
    "* Subir el precio a todos los productos\n",
    "* Volver a ver todos los precios (para comprobar que el precio ha subido)\n",
    "\n",
    "Al inicio del programa, se mostrarán todos los productos, tienen que aparecer ordenados con el siguiente formato: <br><code>1 - Arduino - 30€</code><br>\n",
    "Posteriormente, a todos los productos se aplicará una subida del 50% a todos los precios de productos.<br>\n",
    "Y finalmente volveremos a mostrar todos los productos para comprobar la subida de precios."
   ]
  },
  {
   "cell_type": "code",
   "execution_count": 37,
   "metadata": {},
   "outputs": [
    {
     "name": "stdout",
     "output_type": "stream",
     "text": [
      "Productos disponibles:\n",
      "1 - Arduino - 30€\n",
      "2 - RPi - 70€\n",
      "3 - Print 3D - 300€\n",
      "\n",
      "Precios actualizados tras la subida del 50%:\n",
      "Productos disponibles:\n",
      "1 - Arduino - 45.0€\n",
      "2 - RPi - 105.0€\n",
      "3 - Print 3D - 450.0€\n"
     ]
    }
   ],
   "source": [
    "productos = { 'id':[1,2,3], \n",
    "             'nombre':['Arduino', 'RPi', 'Print 3D'], \n",
    "             'precio': [30, 70, 300] \n",
    "            }\n",
    "\n",
    "# Mostrar productos\n",
    "def mostrar_productos():\n",
    "    print(\"Productos disponibles:\")\n",
    "    for i in range(len(productos['id'])):\n",
    "        print(f\"{productos['id'][i]} - {productos['nombre'][i]} - {productos['precio'][i]}€\")\n",
    "\n",
    "mostrar_productos()\n",
    "\n",
    "# Aplicar la subida de precio del 50%\n",
    "for i in range(len(productos['precio'])):\n",
    "    productos['precio'][i] = productos['precio'][i] * 1.5  # Subir el precio en un 50%\n",
    "\n",
    "# Mostrar los productos después de la subida de precio\n",
    "print(\"\\nPrecios actualizados tras la subida del 50%:\")\n",
    "mostrar_productos()\n",
    "\n"
   ]
  }
 ],
 "metadata": {
  "anaconda-cloud": {},
  "kernelspec": {
   "display_name": "Python 3 (ipykernel)",
   "language": "python",
   "name": "python3"
  },
  "language_info": {
   "codemirror_mode": {
    "name": "ipython",
    "version": 3
   },
   "file_extension": ".py",
   "mimetype": "text/x-python",
   "name": "python",
   "nbconvert_exporter": "python",
   "pygments_lexer": "ipython3",
   "version": "3.12.4"
  }
 },
 "nbformat": 4,
 "nbformat_minor": 4
}
