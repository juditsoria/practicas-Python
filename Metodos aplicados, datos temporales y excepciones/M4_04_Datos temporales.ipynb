{
 "cells": [
  {
   "cell_type": "markdown",
   "metadata": {},
   "source": [
    "# Ejercicios Modulo 4. Unidad 4. Datos temporales (Soluciones)\n",
    "\n",
    "Consideraciones a tener en cuenta: \n",
    "\n",
    "* Guardar este documento con el siguiente formato para su entrega: __M4_04_nombre_apellido1_apellido2__\n",
    "* Realizar los ejercicios con las herramientas vistas en las sesiones. \n",
    "* Comentar el código\n",
    "* Utilizar nombres de variables apropiados, si vais a guardar una nota, llamar a esa variable nota, no n o x"
   ]
  },
  {
   "cell_type": "markdown",
   "metadata": {},
   "source": [
    "**1) Dadas las dos siguientes fechas, que corresponden a las fechas de nacimiento de dos hermanos (en la zona horaria de Europe/Madrid), indica cual es la diferencia entre ellos en días, horas, minutos y segundos**"
   ]
  },
  {
   "cell_type": "code",
   "execution_count": null,
   "metadata": {},
   "outputs": [],
   "source": [
    "# Completa el ejercicio aquí\n",
    "from datetime import  datetime, timedelta\n",
    "import pytz\n",
    "\n",
    "hijo1 = datetime(1985, 10, 20, 17, 55)\n",
    "hijo2 = datetime(1992, 6, 25, 18, 30)\n",
    "\n",
    "# Completa el ejercicio aquí\n",
    "diferencia = hijo2 - hijo1\n",
    "print(diferencia)\n",
    "# Calcula los días, horas, minutos y segundos\n",
    "dias = diferencia.days\n",
    "horas = diferencia.seconds // 3600\n",
    "minutos = (diferencia.seconds // 60) % 60\n",
    "segundos = diferencia.seconds % 60\n",
    "\n",
    "# Imprime los resultados\n",
    "print(f\"La diferencia entre las fechas de nacimiento es: {dias} días, {horas} horas, {minutos} minutos y {segundos} segundos\")"
   ]
  },
  {
   "cell_type": "markdown",
   "metadata": {},
   "source": [
    "**2) Crea una función que se llame formato_fecha() que reciba por parámetro una fecha del tipo datetime y nos devuelva el siguiente formato: \"20 de Abril del 2020\".**\n",
    "\n",
    "**En muchas ocasiones nuestros sistemas estan configurados de forma predeterminada en inglés, y no se puede cambiar la localidad a español. Por lo tanto, tenemos que aprender a seleccionar y mostrar los meses en español a pesar de que nuestro sistema se encuentre en inglés o en otro idioma. Crear una tupla para almacenar el listado de meses en español para poder seleccionar el nombre del mes adecuado en función a una fecha que le proporcionemos al programa. Queda prohibído utilizar metodos como locale, setlocale o strftime.**\n",
    "\n",
    "**Prueba la función enviándole una fecha predefinida por ti y la fecha actual (now)**"
   ]
  },
  {
   "cell_type": "code",
   "execution_count": 17,
   "metadata": {},
   "outputs": [
    {
     "name": "stdout",
     "output_type": "stream",
     "text": [
      "20 de Abril del 2020\n"
     ]
    }
   ],
   "source": [
    "from datetime import datetime\n",
    "\n",
    "def formato_fecha(fecha):\n",
    " \n",
    "    dia = fecha.day\n",
    "    mes = fecha.month\n",
    "    anio = fecha.year\n",
    "\n",
    "    meses_es = (\n",
    "        \"Enero\", \"Febrero\", \"Marzo\", \"Abril\", \"Mayo\", \"Junio\",\n",
    "        \"Julio\", \"Agosto\", \"Septiembre\", \"Octubre\", \"Noviembre\", \"Diciembre\"\n",
    "    )\n",
    "\n",
    "    nombre_mes = meses_es[mes - 1]  # Los índices de la tupla comienzan en 0\n",
    "\n",
    "    return f\"{dia} de {nombre_mes} del {anio}\"\n",
    "\n",
    "# Prueba con una fecha predefinida\n",
    "fecha_predefinida = datetime(2020, 4, 20)\n",
    "fecha_formateada_predefinida = formato_fecha(fecha_predefinida)\n",
    "print(fecha_formateada_predefinida)  # Salida: 10 de Mayo del 2023\n",
    "\n"
   ]
  },
  {
   "cell_type": "markdown",
   "metadata": {},
   "source": [
    "**3) Utilizando strftime y formatea la fecha actual para que salga con el siguiente formato (sin los puntos):**\n",
    "* Día: 20\n",
    "* Mes: 04\n",
    "* Año: 2020\n",
    "* Hora: 16\n",
    "* Minutos: 19\n",
    "* Segundos (y milisegundos): 08.879057"
   ]
  },
  {
   "cell_type": "code",
   "execution_count": 19,
   "metadata": {
    "scrolled": true
   },
   "outputs": [
    {
     "name": "stdout",
     "output_type": "stream",
     "text": [
      "Día: 18\n",
      "Mes: 11\n",
      "Año: 2024\n",
      "Hora: 16\n",
      "Minutos: 48\n",
      "Segundos (y milisegundos): 29.882693\n"
     ]
    }
   ],
   "source": [
    "from datetime import datetime\n",
    "\n",
    "# Obtener la fecha y hora actual\n",
    "ahora = datetime.now()\n",
    "\n",
    "# Formatear la fecha y hora usando strftime\n",
    "formato = \"\"\"Día: %d\n",
    "Mes: %m\n",
    "Año: %Y\n",
    "Hora: %H\n",
    "Minutos: %M\n",
    "Segundos (y milisegundos): %S.%f\"\"\"\n",
    "\n",
    "fecha_formateada = ahora.strftime(formato)\n",
    "\n",
    "# Imprimir la fecha formateada\n",
    "print(fecha_formateada)"
   ]
  }
 ],
 "metadata": {
  "anaconda-cloud": {},
  "kernelspec": {
   "display_name": "Python 3 (ipykernel)",
   "language": "python",
   "name": "python3"
  },
  "language_info": {
   "codemirror_mode": {
    "name": "ipython",
    "version": 3
   },
   "file_extension": ".py",
   "mimetype": "text/x-python",
   "name": "python",
   "nbconvert_exporter": "python",
   "pygments_lexer": "ipython3",
   "version": "3.12.4"
  }
 },
 "nbformat": 4,
 "nbformat_minor": 4
}
