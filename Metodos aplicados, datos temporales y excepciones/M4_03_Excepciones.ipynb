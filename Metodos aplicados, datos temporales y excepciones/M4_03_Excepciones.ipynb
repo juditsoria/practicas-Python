{
 "cells": [
  {
   "cell_type": "markdown",
   "metadata": {},
   "source": [
    "# Ejercicios Modulo 4. Unidad 3. Errores y Excepciones\n",
    "\n",
    "Consideraciones a tener en cuenta: \n",
    "\n",
    "* Guardar este documento con el siguiente formato para su entrega: __M4_03_nombre_apellido1_apellido2__\n",
    "* Realizar los ejercicios con las herramientas vistas en las sesiones. \n",
    "* Comentar el código\n",
    "* Utilizar nombres de variables apropiados, si vais a guardar una nota, llamar a esa variable nota, no n o x"
   ]
  },
  {
   "cell_type": "markdown",
   "metadata": {},
   "source": [
    "**Identificar los errores en los siguiente bloques de código y evaluarlos con excepciones especificas para evitar errores no controlados en nuestros programas. Añade mensajes explicativos para el usuario.**\n",
    "<br>_Nota: Se tienen que evaluar excepciones concretas, no hacer referencia a Exception sin más._"
   ]
  },
  {
   "cell_type": "markdown",
   "metadata": {},
   "source": [
    "**1) Código a evaluar:**"
   ]
  },
  {
   "cell_type": "code",
   "execution_count": 31,
   "metadata": {},
   "outputs": [
    {
     "name": "stdout",
     "output_type": "stream",
     "text": [
      "No puedes dividir un numero entro 0.\n",
      "Error: division by zero\n"
     ]
    }
   ],
   "source": [
    "try: # se intenta dividir un numero \n",
    "    numero = 7/0\n",
    "except ZeroDivisionError as e: # si ese numero es dividido entre 0 tira error\n",
    "    print(f\"No puedes dividir un numero entro 0.\\nError: {e}\")"
   ]
  },
  {
   "cell_type": "markdown",
   "metadata": {},
   "source": [
    "**2) Código a evaluar:**"
   ]
  },
  {
   "cell_type": "code",
   "execution_count": 27,
   "metadata": {},
   "outputs": [
    {
     "name": "stdout",
     "output_type": "stream",
     "text": [
      "El índice que has introducido no aparece en la lista.\n",
      "Error: list index out of range\n"
     ]
    }
   ],
   "source": [
    "# se crea una lista \n",
    "lista = [4, 7, 30, 23, 5]\n",
    "try: # se busca un elemento de la lista por su index\n",
    "    lista[10]\n",
    "except IndexError as e: # si ese index no existe tira error\n",
    "    print(f\"El índice que has introducido no aparece en la lista.\\nError: {e}\")"
   ]
  },
  {
   "cell_type": "markdown",
   "metadata": {},
   "source": [
    "**3) Código a evaluar:**"
   ]
  },
  {
   "cell_type": "code",
   "execution_count": 35,
   "metadata": {},
   "outputs": [
    {
     "name": "stdout",
     "output_type": "stream",
     "text": [
      "La clave introducida no se encuentra en el diccionario.\n",
      "Error: 'alemania'\n"
     ]
    }
   ],
   "source": [
    "# se crea un diccionario\n",
    "paises = { \"españa\":\"español\", \"eeuu\":\"inglés\", \"italia\":\"italiano\" } \n",
    "try: # se busca un elemento por clave\n",
    "    paises[\"alemania\"]\n",
    "except KeyError as e: # si no esta tira error\n",
    "    print(f\"La clave introducida no se encuentra en el diccionario.\\nError: {e}\")"
   ]
  },
  {
   "cell_type": "markdown",
   "metadata": {},
   "source": [
    "**4) Localiza el error en el siguiente bloque de código.  Crea una excepción para evitar que el programa se bloquee y además explica en un mensaje al usuario la causa y/o solución:**"
   ]
  },
  {
   "cell_type": "code",
   "execution_count": 39,
   "metadata": {},
   "outputs": [
    {
     "name": "stdout",
     "output_type": "stream",
     "text": [
      "No puedes sumar un numero y una cadena de caracteres.\n",
      "Error: can only concatenate str (not \"int\") to str\n"
     ]
    }
   ],
   "source": [
    "try: #se intentan sumar 2 elementos \n",
    "    resultado = \"2\" + 10\n",
    "except TypeError as e: # si uno de ellos es cadena de caracteres, no se puede sumar y tira error\n",
    "    print(f\"No puedes sumar un numero y una cadena de caracteres.\\nError: {e}\")"
   ]
  },
  {
   "cell_type": "markdown",
   "metadata": {},
   "source": [
    "**5) Realiza una función llamada agregar_sin_repetidos() que reciba una lista y un elemento. La función debe añadir el elemento al final de la lista con la condición de no repetir ningún elemento. Además si este elemento ya se encuentra en la lista se debe invocar un error de tipo ValueError que debes capturar y mostrar este mensaje en su lugar:**\n",
    "\n",
    "```\n",
    "  Error: Imposible añadir elementos duplicados => [elemento].\n",
    "```\n",
    "**Prueba a agregar los elementos 7, \"Python\" y 5 a través de la función agregar_sin_repetidos() e imprime la lista completa al finalizar.**\n",
    "\n",
    "*Pista: Puedes utilizar la sintaxis: elemento in lista*"
   ]
  },
  {
   "cell_type": "code",
   "execution_count": 43,
   "metadata": {},
   "outputs": [
    {
     "name": "stdout",
     "output_type": "stream",
     "text": [
      "El elemento no se puede añadir a la lista porque esta repetido.\n",
      "Error: El elemento no se puede añadir a la lista porque esta repetido\n",
      "[3, 5, 10, 7, 'Python']\n"
     ]
    }
   ],
   "source": [
    "class ElementoRepetidoException(Exception): #se crea la clase de la exception\n",
    "    def __init__(self):\n",
    "        super().__init__(\"El elemento no se puede añadir a la lista porque esta repetido\")\n",
    "        \n",
    "elementos = [3, 5, 10] # se crea una lista\n",
    "def agregar_sin_repetidos(li, e):# se añade un elemento a la lista si no esta repetido\n",
    "    if e in elementos: # si el elemento ya esta en la lista tira error\n",
    "        raise ElementoRepetidoException\n",
    "    else:\n",
    "         elementos.append(e)\n",
    "try: # se intenta agregar el elemento a la lista y si esta ya en ella lanza el error\n",
    "    agregar_sin_repetidos(elementos, 5)\n",
    "except ElementoRepetidoException as e:\n",
    "    print(f\"El elemento no se puede añadir a la lista porque esta repetido.\\nError: {e}\")\n",
    "\n",
    "try: # se intenta agregar el elemento a la lista y si esta ya en ella lanza el error\n",
    "    agregar_sin_repetidos(elementos, 7)\n",
    "except ElementoRepetidoException as e:\n",
    "    print(f\" El elemento no se puede añadir a la lista porque esta repetido.\\nError: {e}\")\n",
    "try: # se intenta agregar el elemento a la lista y si esta ya en ella lanza el error\n",
    "    agregar_sin_repetidos(elementos, \"Python\")\n",
    "except ElementoRepetidoException as e:\n",
    "    print(f\"El elemento no se puede añadir a la lista porque esta repetido.\\nError: {e}\")\n",
    "\n",
    "print(elementos)\n",
    "    "
   ]
  },
  {
   "cell_type": "markdown",
   "metadata": {},
   "source": [
    "**6) Busca en la documentación otra excepción que no se haya utilizado hasta ahora y realiza los siguientes pasos:**\n",
    "* Provoca el error en un código de ejemplo. \n",
    "* Una vez que las hayas provocado, contrólalas con try-except\n",
    "* Muestra al usuario la información por defecto que proporcione la excepción. Pista: as\n",
    "* Personaliza el mensaje que se le proporciona al usuario utilizando todo lo anterior"
   ]
  },
  {
   "cell_type": "code",
   "execution_count": 45,
   "metadata": {},
   "outputs": [
    {
     "name": "stdout",
     "output_type": "stream",
     "text": [
      "Error: La lista no tiene el atributo 'no_existe'.\n",
      "'list' object has no attribute 'no_existe'\n"
     ]
    }
   ],
   "source": [
    "# Define una lista\n",
    "mi_lista = [1, 2, 3]\n",
    "\n",
    "# Intenta acceder a un atributo inexistente en la lista\n",
    "try:\n",
    "    mi_lista.no_existe\n",
    "except AttributeError as e:\n",
    "    print(f\"Error: La lista no tiene el atributo 'no_existe'.\\n{e}\")"
   ]
  }
 ],
 "metadata": {
  "anaconda-cloud": {},
  "kernelspec": {
   "display_name": "Python 3 (ipykernel)",
   "language": "python",
   "name": "python3"
  },
  "language_info": {
   "codemirror_mode": {
    "name": "ipython",
    "version": 3
   },
   "file_extension": ".py",
   "mimetype": "text/x-python",
   "name": "python",
   "nbconvert_exporter": "python",
   "pygments_lexer": "ipython3",
   "version": "3.12.4"
  }
 },
 "nbformat": 4,
 "nbformat_minor": 4
}
