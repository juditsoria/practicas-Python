{
 "cells": [
  {
   "cell_type": "markdown",
   "metadata": {},
   "source": [
    "# Ejercicios Modulo 2. Unidad 2. Métodos aplicados (Soluciones)\n",
    "\n",
    "Consideraciones a tener en cuenta: \n",
    "\n",
    "* Guardar este documento con el siguiente formato para su entrega: __M4_02_nombre_apellido1_apellido2__\n",
    "* Realizar los ejercicios con las herramientas vistas en las sesiones. \n",
    "* Comentar el código\n",
    "* Utilizar nombres de variables apropiados, si vais a guardar una nota, llamar a esa variable nota, no n o x"
   ]
  },
  {
   "cell_type": "markdown",
   "metadata": {},
   "source": [
    "**1) Solicita por teclado un texto al usuario y decir si:**\n",
    "* El texto es una cadena de texto\n",
    "* El texto es una cadena de dígitos\n",
    "* El texto incluye caracteres y números"
   ]
  },
  {
   "cell_type": "code",
   "execution_count": 13,
   "metadata": {},
   "outputs": [
    {
     "name": "stdin",
     "output_type": "stream",
     "text": [
      "Introduce un texto:  aefaef\n"
     ]
    },
    {
     "name": "stdout",
     "output_type": "stream",
     "text": [
      "El texto es una cadena de texto.\n"
     ]
    }
   ],
   "source": [
    "def verificar_texto(texto):\n",
    "  \"\"\"Verifica si el texto es una cadena de texto, una cadena de digitos o una mezcla de ambos.\"\"\"\n",
    "  if texto.isalpha():\n",
    "    return \"El texto es una cadena de texto.\"\n",
    "  elif texto.isdigit():\n",
    "    return \"El texto es una cadena de dígitos.\"\n",
    "  elif texto.isalnum():\n",
    "    return \"El texto incluye caracteres y números.\"\n",
    "  else:\n",
    "    return \"El texto contiene caracteres especiales.\"\n",
    "\n",
    "def entrada():\n",
    "  \"\"\"Función principal para ejecutar el programa.\"\"\"\n",
    "texto = input(\"Introduce un texto: \")\n",
    "resultado = verificar_texto(texto)\n",
    "print(resultado)\n",
    "\n",
    "if __name__ == \"__main__\":\n",
    "  entrada()"
   ]
  },
  {
   "cell_type": "markdown",
   "metadata": {},
   "source": [
    "**2) Solicita al usuario un texto y una palabra a buscar dentro del texto. Si la localiza, extraer desde esa posición hasta el final de la frase y almacenarlo en otra variable.** \n",
    "* Ejemplo de texto: Hola mundo que tal \n",
    "* Buscamos: mundo \n",
    "* Resultado: mundo que tal"
   ]
  },
  {
   "cell_type": "code",
   "execution_count": 17,
   "metadata": {},
   "outputs": [
    {
     "name": "stdout",
     "output_type": "stream",
     "text": [
      "mundo que tal\n"
     ]
    }
   ],
   "source": [
    "def extraer_texto(texto, palabra):\n",
    "    \"\"\"Extrae la parte del texto desde la palabra clave hasta el final.\"\"\"\n",
    "    indice = texto.index(palabra)\n",
    "    extracto = texto[indice:]\n",
    "    return extracto\n",
    "\n",
    "# Mostrar el resultado\n",
    "print(extraer_texto(\"Hola mundo que tal\", \"mundo\"))"
   ]
  },
  {
   "cell_type": "markdown",
   "metadata": {},
   "source": [
    "**3) Partiendo de una frase con diferentes palabras separadas por espacios, crear una lista donde cada elemento sea cada palabra del texto. Mostrar dicha lista y mostrar el número de veces que se encuentra la palabra mundo en esa lista**"
   ]
  },
  {
   "cell_type": "code",
   "execution_count": 19,
   "metadata": {},
   "outputs": [
    {
     "name": "stdout",
     "output_type": "stream",
     "text": [
      "['Hola', 'mundo', 'este', 'es', 'un', 'mundo', 'de', 'ejemplos', 'con', 'la', 'palabra', 'mundo']\n",
      "La palabra 'mundo' aparece 3 veces en la lista.\n"
     ]
    }
   ],
   "source": [
    "# Define la frase\n",
    "frase = \"Hola mundo este es un mundo de ejemplos con la palabra mundo\"\n",
    "\n",
    "# Divide la frase en palabras\n",
    "palabras = frase.split()\n",
    "\n",
    "# Muestra la lista de palabras\n",
    "print(palabras)\n",
    "\n",
    "# Cuenta el numero de veces que aparece la palabra \"mundo\"\n",
    "num_mundo = palabras.count(\"mundo\")\n",
    "\n",
    "# Muestra el numero de veces que aparece \"mundo\"\n",
    "print(f\"La palabra 'mundo' aparece {num_mundo} veces en la lista.\")"
   ]
  }
 ],
 "metadata": {
  "anaconda-cloud": {},
  "kernelspec": {
   "display_name": "Python 3 (ipykernel)",
   "language": "python",
   "name": "python3"
  },
  "language_info": {
   "codemirror_mode": {
    "name": "ipython",
    "version": 3
   },
   "file_extension": ".py",
   "mimetype": "text/x-python",
   "name": "python",
   "nbconvert_exporter": "python",
   "pygments_lexer": "ipython3",
   "version": "3.12.4"
  }
 },
 "nbformat": 4,
 "nbformat_minor": 4
}
