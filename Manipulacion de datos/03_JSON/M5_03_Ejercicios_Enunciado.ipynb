{
 "cells": [
  {
   "cell_type": "markdown",
   "metadata": {},
   "source": [
    "# Ejercicios Modulo 5. JSON\n",
    "\n",
    "Consideraciones a tener en cuenta: \n",
    "\n",
    "* Guardar este documento con el siguiente formato para su entrega: __M5_03_nombre_apellido1_apellido2__\n",
    "* Realizar los ejercicios con las herramientas vistas en las sesiones. \n",
    "* Comentar el código\n",
    "* Utilizar nombres de variables apropiados, si vais a guardar una nota, llamar a esa variable nota, no n o x"
   ]
  },
  {
   "cell_type": "markdown",
   "metadata": {},
   "source": [
    "# JSON (JavaScript Object Notation)"
   ]
  },
  {
   "cell_type": "markdown",
   "metadata": {},
   "source": [
    "1) A continuación se muestra un JSON String\n",
    "\n",
    "{\"jefe_proyecto\": {\"Nombre\": \"Juan\",\"Edad\": 28,\"Experiencia\": [\"Gestion\",\"Finanzas\",\"Bases de datos\"],\"Residencia\": \"Madrid\",\"HorasProyecto\": 3500},\"empleados\": [{\"Nombre\": \"Elena\",\"Edad\": 26,\"Experiencia\": [\"JavaScript\",\"Python\"],\"Residencia\": \"Madrid\",\"HorasProyecto\": 500},{\"Nombre\": \"Luis\",\"Edad\": 31,\"Experiencia\": [\"Django\",\"Flask\",\"Pyramid\"],\"Residencia\": \"Barcelona\",\"HorasProyecto\": 1100}]}\n",
    "\n",
    "* Si es necesario utiliza un visualizador de JSON para entenderlo.\n",
    "* El objetivo es crear un diccionario con todos los datos y estructuras internas necesarias para que sea igual que el JSON String\n",
    "* Vete creando estructuras más pequeñas hasta que llegues a formar el mismo JSON string que ves arriba\n",
    "* Una vez que lo tengas creado, vamos a operar con él\n",
    "* Almacena esta estructura (el diccionario) en una variable\n",
    "* Comprueba su tipo y muéstrala por pantalla\n",
    "* Crea dos variables: horas_empleados y horas_jefe\n",
    "* Extrae las horas del jefe e introducelas en su variable\n",
    "* Crea un bucle que recorra el número de empleados que se tienen en la estructura, y para cada empleado vete sumando sus horas en su correspondiente variable\n",
    "* Suma todas las horas y muéstralas por pantalla"
   ]
  },
  {
   "cell_type": "code",
   "execution_count": 43,
   "metadata": {},
   "outputs": [
    {
     "name": "stdout",
     "output_type": "stream",
     "text": [
      "<class 'dict'>\n",
      "Horas totales trabajadas del jefe del proyecto: 3500\n",
      "Horas totales del empleado  Elena :  500\n",
      "Horas totales del empleado  Luis :  1100\n",
      "Total de horas trabajadas por empleados: 1600\n"
     ]
    }
   ],
   "source": [
    "objeto = {\n",
    "    \"proyecto\": [{\"jefe_proyecto\": [\n",
    "                                    {\"Nombre\": \"Juan\",\n",
    "                                    \"Edad\": 28,\n",
    "                                    \"Residencia\": \"Madrid\",\n",
    "                                    \"Horas_proyecto\": 3500},\n",
    "                                    {\"Experiencia\": [\"Gestión\", \"Finanzas\", \"Bases_de_datos\"]}\n",
    "                ]}, \n",
    "                {\"empleados\": [\n",
    "                [\n",
    "                        {\"Nombre\": \"Elena\",\n",
    "                    \"Edad\": 26,\n",
    "                    \"Residencia\": \"Madrid\",\n",
    "                    \"Horas_proyecto\": 500},\n",
    "                       {\"Experiencia\": [\"JavaScript\", \"Python\"]}\n",
    "                   ],\n",
    "                    [\n",
    "                      {\"Nombre\": \"Luis\",\n",
    "                    \"Edad\": 31,\n",
    "                    \"Residencia\": \"Barcelona\",\n",
    "                    \"Horas_proyecto\": 1100},\n",
    "                    {\"Experiencia\": [\"Django\", \"Flask\", \"Pyramid\"]}\n",
    "                    ]\n",
    "                ]\n",
    "                }]\n",
    "}\n",
    "\n",
    "print(type(objeto))\n",
    "horas_jefe = objeto[\"proyecto\"][0][\"jefe_proyecto\"][0][\"Horas_proyecto\"]\n",
    "horas_empleado1 = objeto[\"proyecto\"][1][\"empleados\"][0][0][\"Horas_proyecto\"]\n",
    "nombre_empleado1 =  objeto[\"proyecto\"][1][\"empleados\"][0][0][\"Nombre\"]\n",
    "horas_empleado2 = objeto[\"proyecto\"][1][\"empleados\"][1][0][\"Horas_proyecto\"]\n",
    "nombre_empleado2 =  objeto[\"proyecto\"][1][\"empleados\"][1][0][\"Nombre\"]\n",
    "print(\"Horas totales trabajadas del jefe del proyecto:\", horas_jefe)\n",
    "print(\"Horas totales del empleado \",nombre_empleado1, \": \", horas_empleado1)\n",
    "print(\"Horas totales del empleado \",nombre_empleado2, \": \", horas_empleado2)\n",
    "total_horas_empleados = 0\n",
    "\n",
    "for proyecto in objeto[\"proyecto\"]:\n",
    "    if \"empleados\" in proyecto:\n",
    "        for empleados in proyecto[\"empleados\"]:\n",
    "            for empleado in empleados:\n",
    "                if \"Horas_proyecto\" in empleado:\n",
    "                    total_horas_empleados += empleado[\"Horas_proyecto\"]\n",
    "            \n",
    "print(\"Total de horas trabajadas por empleados:\", total_horas_empleados)\n",
    "\n",
    "                  "
   ]
  },
  {
   "cell_type": "markdown",
   "metadata": {},
   "source": [
    "2) En el ejercicio anterior has trabajado con un diccionario que tu mismo/a creaste, conviértelo a un formato JSON String, muestra su tipo y los datos por pantalla\n",
    "¿Para qué nos sirve este formato?"
   ]
  },
  {
   "cell_type": "code",
   "execution_count": 47,
   "metadata": {},
   "outputs": [
    {
     "name": "stdout",
     "output_type": "stream",
     "text": [
      "<class 'str'>\n"
     ]
    }
   ],
   "source": [
    "objeto_json =json.dumps(objeto)\n",
    "print(type(objeto_json))\n",
    "# se convierte a una cadena de texto en formato json y sirve para escribirlo en un archivo o enviarlo como respuesta \n",
    "# a una api, o para que cualquier persona pueda leerlo en cualquier formato"
   ]
  },
  {
   "cell_type": "markdown",
   "metadata": {},
   "source": [
    "3) A veces os encontraréis con JSON que tendréis que modificar. Para ello tenéis que decodificarlos, realizar las modificaciones pertinentes y volver a codificarlo para dejarlo como JSON de nuevo. En el siguiente ejemplo os habéis dado cuenta de que hay algunos errores:\n",
    "* A Superman le falta como poder \"Volar\"\n",
    "* En Batman, la edad es 35, no 350\n",
    "* En Batman, le sobra el poder de \"Rayos en los ojos\"\n",
    "* En Wonder Woman le falta el poder \"Lazo de la verdad\"\n",
    "* Después de corregir todo esto, transforma estos datos en un JSON String"
   ]
  },
  {
   "cell_type": "code",
   "execution_count": 3,
   "metadata": {},
   "outputs": [],
   "source": [
    "# NO TOCAR NADA DE ESTE BLOQUE\n",
    "superheroes = {\n",
    "\t\"nombreEquipo\": \"Super Hero Squad\",\n",
    "\t\"ciudad\": \"Metro City\",\n",
    "\t\"formado\": 2016,\n",
    "\t\"baseSecreta\": \"Super Tower\",\n",
    "\t\"activo\": \"Si\",\n",
    "\t\"miembros\": [\n",
    "\t\t{\n",
    "\t\t\t\"nombre\": \"SuperMan\",\n",
    "\t\t\t\"edad\": 29,\n",
    "\t\t\t\"identidadSecreta\": \"Clart Kent\",\n",
    "\t\t\t\"poderes\": [\n",
    "\t\t\t\t\"Super fuerza\",\n",
    "\t\t\t\t\"Super velocidad\",\n",
    "\t\t\t\t\"Rayos en los ojos\"\n",
    "\t\t\t]\n",
    "\t\t},\n",
    "\t\t{\n",
    "\t\t\t\"nombre\": \"Batman\",\n",
    "\t\t\t\"edad\": 350,\n",
    "\t\t\t\"identidadSecreta\": \"Bruce Wayne\",\n",
    "\t\t\t\"poderes\": [\n",
    "\t\t\t\t\"Detective\",\n",
    "\t\t\t\t\"Dinero\"\n",
    "\t\t\t]\n",
    "\t\t},\n",
    "\t\t{\n",
    "\t\t\t\"nombre\": \"Wonder Woman\",\n",
    "\t\t\t\"edad\": 900,\n",
    "\t\t\t\"identidadSecreta\": \"Diana de Temiscira\",\n",
    "\t\t\t\"poderes\": [\n",
    "\t\t\t\t\"Super fuerza\",\n",
    "\t\t\t\t\"Super velocidad\",\n",
    "                \"Lazo de la verdad\"\n",
    "\t\t\t]\n",
    "\t\t}\n",
    "\t]\n",
    "}"
   ]
  },
  {
   "cell_type": "code",
   "execution_count": 59,
   "metadata": {},
   "outputs": [
    {
     "name": "stdout",
     "output_type": "stream",
     "text": [
      "{'nombreEquipo': 'Super Hero Squad', 'ciudad': 'Metro City', 'formado': 2016, 'baseSecreta': 'Super Tower', 'activo': 'Si', 'miembros': [{'nombre': 'SuperMan', 'edad': 29, 'identidadSecreta': 'Clart Kent', 'poderes': ['Super fuerza', 'Super velocidad'], 3: 'Volar'}, {'nombre': 'Batman', 'edad': 35, 'identidadSecreta': 'Bruce Wayne', 'poderes': ['Detective', 'Dinero']}, {'nombre': 'Wonder Woman', 'edad': 900, 'identidadSecreta': 'Diana de Temiscira', 'poderes': ['Super fuerza', 'Super velocidad', 'Lazo de la verdad', 'Lazo de la verdad', 'Lazo de la verdad']}]}\n",
      "<class 'dict'>\n",
      "{'nombre': 'SuperMan', 'edad': 29, 'identidadSecreta': 'Clart Kent', 'poderes': ['Super fuerza', 'Super velocidad'], 3: 'Volar'}\n",
      "{'nombre': 'Batman', 'edad': 35, 'identidadSecreta': 'Bruce Wayne', 'poderes': ['Detective', 'Dinero']}\n",
      "{'nombre': 'Batman', 'edad': 35, 'identidadSecreta': 'Bruce Wayne', 'poderes': ['Detective', 'Dinero']}\n",
      "['Super fuerza', 'Super velocidad']\n",
      "['Super fuerza', 'Super velocidad', 'Lazo de la verdad', 'Lazo de la verdad', 'Lazo de la verdad']\n",
      "<class 'str'>\n"
     ]
    }
   ],
   "source": [
    "superheroes[\"miembros\"][0][3] = \"Volar\"\n",
    "superheroes[\"miembros\"][1][\"edad\"] = 35\n",
    "# del superheroes[\"miembros\"][0][\"poderes\"][2]\n",
    "superheroes[\"miembros\"][2][\"poderes\"].append(\"Lazo de la verdad\")\n",
    "\n",
    "\n",
    "print(superheroes)\n",
    "print(type(superheroes))\n",
    "print(superheroes[\"miembros\"][0])\n",
    "print(superheroes[\"miembros\"][1])\n",
    "print(superheroes[\"miembros\"][1])\n",
    "print(superheroes[\"miembros\"][0][\"poderes\"])\n",
    "print(superheroes[\"miembros\"][2][\"poderes\"])\n",
    "superheroes_json = json.dumps(superheroes)\n",
    "print(type(superheroes_json))"
   ]
  },
  {
   "cell_type": "markdown",
   "metadata": {},
   "source": [
    "4) En base al ejercicio anterior, modifica la estructura de super para lograr que miembros tenga dos ramas: \"miembrosActivos\" y \"miembrosInactivos\", donde cada una de estas ramas, almacenen los héroes que están en activo y los que no. En este caso, introduce a SuperMan y Wonder Woman en la lista de activos y a Batman en la de Inactivos. Esta modificación puedes hacerla como quieras, o bien programando las estructuras de datos e ir componiéndolo o bien cogiendo el JSON y modificándolo sobre él mismo. Al finalizar puedes comprobar tu JSON en un visualizador online (http://jsonviewer.stack.hu/)"
   ]
  },
  {
   "cell_type": "code",
   "execution_count": 67,
   "metadata": {},
   "outputs": [
    {
     "name": "stdout",
     "output_type": "stream",
     "text": [
      "<class 'str'>\n"
     ]
    }
   ],
   "source": [
    "superheroes_modificado = {\n",
    "\t\"nombreEquipo\": \"Super Hero Squad\",\n",
    "\t\"ciudad\": \"Metro City\",\n",
    "\t\"formado\": 2016,\n",
    "\t\"baseSecreta\": \"Super Tower\",\n",
    "\t\"activo\": \"Si\",\n",
    "\t\"miembros\": [\n",
    "\t\t{\"miembros_activos\":\n",
    "        [\n",
    "            {\n",
    "\t\t\t\"nombre\": \"SuperMan\",\n",
    "\t\t\t\"edad\": 29,\n",
    "\t\t\t\"identidadSecreta\": \"Clart Kent\",\n",
    "\t\t\t\"poderes\": [\n",
    "\t\t\t\t\"Super fuerza\",\n",
    "\t\t\t\t\"Super velocidad\",\n",
    "\t\t\t\t\"Rayos en los ojos\"\n",
    "\t\t\t]\n",
    "\t\t},\n",
    "            {\n",
    "\t\t\t\"nombre\": \"Wonder Woman\",\n",
    "\t\t\t\"edad\": 900,\n",
    "\t\t\t\"identidadSecreta\": \"Diana de Temiscira\",\n",
    "\t\t\t\"poderes\": [\n",
    "\t\t\t\t\"Super fuerza\",\n",
    "\t\t\t\t\"Super velocidad\",\n",
    "                \"Lazo de la verdad\"\n",
    "\t\t\t]\n",
    "\t\t}\n",
    "        ]},\n",
    "        {\"miembros_inactivos\":[\n",
    "            {\n",
    "\t\t\t\"nombre\": \"Batman\",\n",
    "\t\t\t\"edad\": 350,\n",
    "\t\t\t\"identidadSecreta\": \"Bruce Wayne\",\n",
    "\t\t\t\"poderes\": [\n",
    "\t\t\t\t\"Detective\",\n",
    "\t\t\t\t\"Dinero\"\n",
    "\t\t\t]\n",
    "\t\t},\n",
    "        ]}\n",
    "\t]\n",
    "}\n",
    "superheroes_modificado_json = json.dumps(superheroes_modificado)\n",
    "print(type(superheroes_modificado_json))"
   ]
  },
  {
   "cell_type": "markdown",
   "metadata": {},
   "source": [
    "5) En el siguiente código, accedemos a un JSON de forma remota, a partir de la respuesta, realizar lo siguiente:\n",
    "* Mostrar el tipo de dato que se ha recibido\n",
    "* Mostrar los datos recibidos\n",
    "* Mostrar el número de personas que se encuentran actualmente en el espacio\n",
    "* Realizar un bucle que recorra a todas esas personas y muestre nombre y nave en la que se encuentra."
   ]
  },
  {
   "cell_type": "code",
   "execution_count": 113,
   "metadata": {},
   "outputs": [
    {
     "name": "stdout",
     "output_type": "stream",
     "text": [
      "<class 'dict'>\n",
      "{'people': [{'craft': 'ISS', 'name': 'Oleg Kononenko'}, {'craft': 'ISS', 'name': 'Nikolai Chub'}, {'craft': 'ISS', 'name': 'Tracy Caldwell Dyson'}, {'craft': 'ISS', 'name': 'Matthew Dominick'}, {'craft': 'ISS', 'name': 'Michael Barratt'}, {'craft': 'ISS', 'name': 'Jeanette Epps'}, {'craft': 'ISS', 'name': 'Alexander Grebenkin'}, {'craft': 'ISS', 'name': 'Butch Wilmore'}, {'craft': 'ISS', 'name': 'Sunita Williams'}, {'craft': 'Tiangong', 'name': 'Li Guangsu'}, {'craft': 'Tiangong', 'name': 'Li Cong'}, {'craft': 'Tiangong', 'name': 'Ye Guangfu'}], 'number': 12, 'message': 'success'}\n",
      "El numero total de personas que hay en el espacio es :  12\n",
      "Oleg Kononenko  esta en la nave:  ISS\n",
      "Nikolai Chub  esta en la nave:  ISS\n",
      "Tracy Caldwell Dyson  esta en la nave:  ISS\n",
      "Matthew Dominick  esta en la nave:  ISS\n",
      "Michael Barratt  esta en la nave:  ISS\n",
      "Jeanette Epps  esta en la nave:  ISS\n",
      "Alexander Grebenkin  esta en la nave:  ISS\n",
      "Butch Wilmore  esta en la nave:  ISS\n",
      "Sunita Williams  esta en la nave:  ISS\n",
      "Li Guangsu  esta en la nave:  Tiangong\n",
      "Li Cong  esta en la nave:  Tiangong\n",
      "Ye Guangfu  esta en la nave:  Tiangong\n"
     ]
    }
   ],
   "source": [
    "import requests\n",
    "\n",
    "# API que nos comunica cuantas personas se encuentran actualmente en el espacio\n",
    "response = requests.get(\"http://api.open-notify.org/astros.json\")\n",
    "data = response.json()\n",
    "print(type(data))\n",
    "print(data)\n",
    "print(\"El numero total de personas que hay en el espacio es : \",data[\"number\"])\n",
    "for people in data [\"people\"]:\n",
    "    if \"craft\" in people and \"name\" in people:\n",
    "        name = people[\"name\"]\n",
    "        craft = people[\"craft\"]\n",
    "        print(name, \" esta en la nave: \", craft)\n",
    "        "
   ]
  }
 ],
 "metadata": {
  "anaconda-cloud": {},
  "kernelspec": {
   "display_name": "Python 3 (ipykernel)",
   "language": "python",
   "name": "python3"
  },
  "language_info": {
   "codemirror_mode": {
    "name": "ipython",
    "version": 3
   },
   "file_extension": ".py",
   "mimetype": "text/x-python",
   "name": "python",
   "nbconvert_exporter": "python",
   "pygments_lexer": "ipython3",
   "version": "3.12.4"
  }
 },
 "nbformat": 4,
 "nbformat_minor": 4
}
