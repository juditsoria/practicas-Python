{
 "cells": [
  {
   "cell_type": "markdown",
   "metadata": {},
   "source": [
    "# Ejercicios Modulo 5. Ficheros (Enunciado)\n",
    "\n",
    "Consideraciones a tener en cuenta: \n",
    "\n",
    "* Guardar este documento con el siguiente formato para su entrega: __M5_01_nombre_apellido1_apellido2__\n",
    "* Realizar los ejercicios con las herramientas vistas en las sesiones. \n",
    "* Comentar el código\n",
    "* Utilizar nombres de variables apropiados, si vais a guardar una nota, llamar a esa variable nota, no n o x"
   ]
  },
  {
   "cell_type": "markdown",
   "metadata": {},
   "source": [
    "**1) En este ejercicio deberás crear un programa que abra y lea un fichero de texto, y nos proporcione la siguiente información:**\n",
    "\n",
    "* Nombre del fichero\n",
    "* Si el fichero esta cerrado o no (True o False)\n",
    "* El modo de apertura del fichero\n",
    "\n",
    "El fichero de texto se denominará **pruebas.txt** y tendrá el siguiente contenido en texto plano (créalo previamente):\n",
    "\n",
    "```\n",
    "Hola que tal estas\n",
    "Esto es una prueba\n",
    "Hoy no llueve\n",
    "Se acerca la navidad\n",
    "Hasta luego y muy buenas\n",
    "```\n",
    "\n",
    "Busca en la documentación que métodos nos proporcionan la información requerida. Por último, lista el contenido del fichero.\n",
    "\n",
    "**Aviso importante**: *Si quieres leer un fichero que no se ha escrito directamente con Python, entonces es posible que encuentres errores de codificación al mostrar algunos caracteres. Asegúrate de indicar la codificación del fichero manualmente durante la apertura como argumento en el **open**, por ejemplo con UTF-8:*\n",
    "\n",
    "```python\n",
    "open(..., encoding=\"utf8\")\n",
    "```"
   ]
  },
  {
   "cell_type": "code",
   "execution_count": 109,
   "metadata": {},
   "outputs": [
    {
     "name": "stdout",
     "output_type": "stream",
     "text": [
      "Nombre del fichero:  pruebas.txt\n",
      "--------------\n",
      "¿El fichero esta cerrado? False\n",
      "--------------\n",
      "Modo de apertura del fichero:  r\n",
      "--------------\n",
      "Contenido del fichero:\n",
      "Hola que tal estas\n",
      "Esto es una prueba\n",
      "Hoy no llueve\n",
      "Se acerca la navidad\n",
      "Hasta luego y muy buenas\n"
     ]
    }
   ],
   "source": [
    "# El with se utiliza para manejar recursos de manera eficiente y segura, describe el modo en el que quieres abrir el archivo y la configuracion\n",
    "# de la configuracion de la codificación del fichero\n",
    "with open(\"pruebas.txt\", mode = \"r\", encoding=\"utf8\") as fichero:\n",
    "    # se utiliza para ver el nombre del fichero\n",
    "    print(\"Nombre del fichero: \", fichero.name)\n",
    "    print(\"--------------\")\n",
    "    # se utiliza para ver si si el fichero ha sido cerrado\n",
    "    print(\"¿El fichero esta cerrado?\", fichero.closed)\n",
    "    print(\"--------------\")\n",
    "    # se utiliza para ver el modo en el que el fichero se ha abierto\n",
    "    print(\"Modo de apertura del fichero: \", fichero.mode)\n",
    "    print(\"--------------\")\n",
    "    print(\"Contenido del fichero:\")\n",
    "    contenido = fichero.read()\n",
    "    print(contenido)\n",
    "fichero.close()\n"
   ]
  },
  {
   "cell_type": "markdown",
   "metadata": {},
   "source": [
    "**2) Sobre el fichero anterior, obtén la siguiente información:**\n",
    "\n",
    "* Lectura de una línea del fichero\n",
    "* Lectura del fichero línea a línea"
   ]
  },
  {
   "cell_type": "code",
   "execution_count": 111,
   "metadata": {},
   "outputs": [
    {
     "name": "stdout",
     "output_type": "stream",
     "text": [
      "Hola que tal estas\n",
      "Esto es una prueba\n",
      "Hoy no llueve\n",
      "Se acerca la navidad\n",
      "Hasta luego y muy buenas\n"
     ]
    }
   ],
   "source": [
    "# abre el fichero\n",
    "with open(\"pruebas.txt\", mode = \"r\", encoding=\"utf8\") as fichero:\n",
    "    # itera sobre todas las lineas del fichero\n",
    "    for linea in fichero:\n",
    "        # imprime cada linea sin espacios al principio ni al final\n",
    "        print(linea.strip())\n",
    "        # cierra el fichero\n",
    "fichero.close()\n"
   ]
  },
  {
   "cell_type": "markdown",
   "metadata": {},
   "source": [
    "**3) Sobre el fichero anterior, realiza la siguiente operación:**\n",
    "\n",
    "* Abrir el fichero en modo escritura (concatenando el contenido, sin sobrescribirlo) y escribir una nueva línea de texto\n",
    "\n",
    "Comprueba que este funcionando correctamente comprobando el fichero (tendrás que cerrarlo y abrirlo para poder visualizar los cambios)."
   ]
  },
  {
   "cell_type": "code",
   "execution_count": 134,
   "metadata": {},
   "outputs": [
    {
     "name": "stdout",
     "output_type": "stream",
     "text": [
      "Hola que tal estas\n",
      "Esto es una prueba\n",
      "Hoy no llueve\n",
      "Se acerca la navidad\n",
      "Hasta luego y muy buenasestoy aprendiendo el manejo de ficherosestoy aprendiendo el manejo de ficherosestoy aprendiendo el manejo de ficheros\n",
      " Estoy aprendiendo el manejo de ficheros\n",
      " Estoy aprendiendo el manejo de ficheros\n",
      " Estoy aprendiendo el manejo de ficheros\n",
      " Estoy aprendiendo el manejo de ficheros\n"
     ]
    }
   ],
   "source": [
    "with open(\"pruebas.txt\", mode = \"a\", encoding = \"utf8\") as fichero:\n",
    "          fichero.write(\"\\n Estoy aprendiendo el manejo de ficheros\")\n",
    "fichero.close()\n",
    "with open(\"pruebas.txt\", mode = \"r\", encoding=\"utf8\") as fichero:\n",
    "    contenido = fichero.read()\n",
    "    print(contenido)\n",
    "fichero.close()"
   ]
  },
  {
   "cell_type": "markdown",
   "metadata": {},
   "source": [
    "**4) Sobre el fichero anterior, realiza la siguiente operación:**\n",
    "\n",
    "* Abrir el fichero en modo escritura (sobrescribiendo el contenido) y escribir una nueva línea de texto\n",
    "\n",
    "Comprueba que este funcionando correctamente comprobando el fichero (tendrás que cerrarlo y abrirlo para poder visualizar los cambios)."
   ]
  },
  {
   "cell_type": "code",
   "execution_count": 154,
   "metadata": {},
   "outputs": [
    {
     "name": "stdout",
     "output_type": "stream",
     "text": [
      "Este es el texto del fichero sobreescrito\n"
     ]
    }
   ],
   "source": [
    "# abre el fichero en modo sobreescritura\n",
    "with open(\"pruebas.txt\", mode = \"w\", encoding = \"utf8\") as fichero:\n",
    "    # texto que sobreescribe el texto dentro del fichero\n",
    "    fichero.write(\"Este es el texto del fichero sobreescrito\")\n",
    "    # se cierra el fichero \n",
    "    fichero.close()\n",
    "# abre el fichero en modo lectura\n",
    "with open(\"pruebas.txt\", mode = \"r\", encoding=\"utf8\") as fichero:\n",
    "# lee el contenido de el fichero \n",
    "    contenido = fichero.read()\n",
    "# imprime el contenido del fichero \n",
    "    print(contenido)\n",
    "    # cierra el fichero \n",
    "fichero.close()"
   ]
  },
  {
   "cell_type": "markdown",
   "metadata": {},
   "source": [
    "**5) En este ejercicio deberás crear un programa que lea los datos de un fichero de texto, que transforme cada fila en un diccionario y lo añada a una lista llamada personas. Luego recorre las personas de la lista y para cada una muestra de forma amigable todos sus campos. Por ejemplo así:**\n",
    "\n",
    "```\n",
    "(id=1) Carlos Pérez => 05/01/1989 \n",
    "```\n",
    "\n",
    "El fichero de texto se denominará **personas.txt** y tendrá el siguiente contenido en texto plano (créalo previamente):\n",
    "\n",
    "```\n",
    "1;Carlos;Pérez;05/01/1989\n",
    "2;Manuel;Heredia;26/12/1973\n",
    "3;Rosa;Campos;12/06/1961\n",
    "4;David;García;25/07/2006\n",
    "```\n",
    "\n",
    "Los campos del diccionario serán por orden: **id**, **nombre**, **apellido** y **nacimiento**.\n",
    "\n",
    "**Aviso importante**: *Si quieres leer un fichero que no se ha escrito directamente con Python, entonces es posible que encuentres errores de codificación al mostrar algunos caracteres. Asegúrate de indicar la codificación del fichero manualmente durante la apertura como argumento en el **open**, por ejemplo con UTF-8:*\n",
    "\n",
    "```python\n",
    "open(..., encoding=\"utf8\")\n",
    "```\n",
    "\n",
    "Pista: Es posible que tengas que recurrir a funciones como replace o split para poder modificar el texto de una línea de texto. Busca documentación sobre ello."
   ]
  },
  {
   "cell_type": "code",
   "execution_count": 152,
   "metadata": {},
   "outputs": [
    {
     "name": "stdout",
     "output_type": "stream",
     "text": [
      "Contenido original del archivo:\n",
      "[\n",
      "    {\n",
      "        \"id\": \"1\",\n",
      "        \"name\": \"Carlos\",\n",
      "        \"apellido\": \"Pérez\",\n",
      "        \"fecha de nacimiento\": \"05/01/1989\"\n",
      "    },\n",
      "    {\n",
      "        \"id\": \"2\",\n",
      "        \"name\": \"Manuel\",\n",
      "        \"apellido\": \"Heredia\",\n",
      "        \"fecha de nacimiento\": \"26/12/1973\"\n",
      "    },\n",
      "    {\n",
      "        \"id\": \"3\",\n",
      "        \"name\": \"Rosa\",\n",
      "        \"apellido\": \"Campos\",\n",
      "        \"fecha de nacimiento\": \"12/06/1961\"\n",
      "    },\n",
      "    {\n",
      "        \"id\": \"4\",\n",
      "        \"name\": \"David\",\n",
      "        \"apellido\": \"García\",\n",
      "        \"fecha de nacimiento\": \"25/07/2006\"\n",
      "    }\n",
      "]\n",
      "Datos escritos correctamente en personas.txt\n"
     ]
    }
   ],
   "source": [
    "import json\n",
    "\n",
    "# Se crea una lista de diccionarios\n",
    "personas = [\n",
    "    {\"id\": \"1\", \"name\": \"Carlos\", \"apellido\": \"Pérez\", \"fecha de nacimiento\": \"05/01/1989\"},\n",
    "    {\"id\": \"2\", \"name\": \"Manuel\", \"apellido\": \"Heredia\", \"fecha de nacimiento\": \"26/12/1973\"},\n",
    "    {\"id\": \"3\", \"name\": \"Rosa\", \"apellido\": \"Campos\", \"fecha de nacimiento\": \"12/06/1961\"},\n",
    "    {\"id\": \"4\", \"name\": \"David\", \"apellido\": \"García\", \"fecha de nacimiento\": \"25/07/2006\"}\n",
    "]\n",
    "\n",
    "# Intentar leer el archivo original\n",
    "try:\n",
    "    with open(\"personas.txt\", mode=\"r\", encoding=\"utf8\") as fichero:\n",
    "        contenido = fichero.read()\n",
    "        print(\"Contenido original del archivo:\")\n",
    "        print(contenido)\n",
    "except FileNotFoundError:\n",
    "    print(\"El archivo 'personas.txt' no existe. Será creado.\")\n",
    "\n",
    "# convierte un objeto de Python a su representación en formato JSON\n",
    "with open(\"personas.txt\", mode=\"w\", encoding=\"utf8\") as fichero:\n",
    "    json.dump(personas, fichero, ensure_ascii=False, indent=4)\n",
    "\n",
    "print(\"Datos escritos correctamente en personas.txt\")\n"
   ]
  }
 ],
 "metadata": {
  "anaconda-cloud": {},
  "kernelspec": {
   "display_name": "Python 3 (ipykernel)",
   "language": "python",
   "name": "python3"
  },
  "language_info": {
   "codemirror_mode": {
    "name": "ipython",
    "version": 3
   },
   "file_extension": ".py",
   "mimetype": "text/x-python",
   "name": "python",
   "nbconvert_exporter": "python",
   "pygments_lexer": "ipython3",
   "version": "3.12.4"
  }
 },
 "nbformat": 4,
 "nbformat_minor": 4
}
